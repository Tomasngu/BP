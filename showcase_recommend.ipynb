{
 "cells": [
  {
   "cell_type": "markdown",
   "id": "62129d75",
   "metadata": {},
   "source": [
    "# Doporučovací systém"
   ]
  },
  {
   "cell_type": "code",
   "execution_count": 1,
   "id": "06214b37-3b40-46de-b1ac-311432924d41",
   "metadata": {},
   "outputs": [],
   "source": [
    "import datetime\n",
    "import pandas as pd\n",
    "from sklearn.tree import DecisionTreeClassifier  \n",
    "from joblib import load"
   ]
  },
  {
   "cell_type": "markdown",
   "id": "959ed4e2",
   "metadata": {},
   "source": [
    "### Načtení modelu"
   ]
  },
  {
   "cell_type": "code",
   "execution_count": null,
   "id": "0f2a7afa",
   "metadata": {},
   "outputs": [],
   "source": [
    "decision_tree_clf = load('model/decision_tree.joblib')"
   ]
  },
  {
   "cell_type": "markdown",
   "id": "6aae382c",
   "metadata": {},
   "source": [
    "### Zisk aktuálního času a dne ze systému"
   ]
  },
  {
   "cell_type": "code",
   "execution_count": null,
   "id": "32af9b92",
   "metadata": {},
   "outputs": [
    {
     "name": "stdout",
     "output_type": "stream",
     "text": [
      "Aktuální čas je 2024-04-08 22:46:24.112329\n"
     ]
    }
   ],
   "source": [
    "current_time = datetime.datetime.now()\n",
    "print(f'Aktuální čas je {current_time}')\n",
    "\n",
    "decimal_time = current_time.hour + current_time.minute / 60.0\n",
    "day_of_week = current_time.weekday() \n",
    "input_features = pd.DataFrame([[decimal_time, day_of_week]],\n",
    "                              columns=['DecimalTime', 'DayOfWeek'])"
   ]
  },
  {
   "cell_type": "markdown",
   "id": "470bdaa1",
   "metadata": {},
   "source": [
    "### Doporučení kamery"
   ]
  },
  {
   "cell_type": "code",
   "execution_count": null,
   "id": "3f50b8b3",
   "metadata": {},
   "outputs": [
    {
     "name": "stdout",
     "output_type": "stream",
     "text": [
      "Doporučená kamera je 2.\n"
     ]
    }
   ],
   "source": [
    "predicted_camera = decision_tree_clf.predict(input_features)\n",
    "predicted_camera = predicted_camera[0]\n",
    "print(f'Doporučená kamera je {predicted_camera}.')"
   ]
  },
  {
   "cell_type": "markdown",
   "id": "76ed266b",
   "metadata": {},
   "source": [
    "#### Zobrazení aktuálního doporučeného snímku."
   ]
  },
  {
   "cell_type": "code",
   "execution_count": null,
   "id": "b643fd0c",
   "metadata": {},
   "outputs": [],
   "source": [
    "from scraping.scraping import scrape_one_stream_whole\n",
    "from visualize.helper import plot_images\n",
    "import os\n",
    "import cv2\n",
    "\n",
    "OUTPUT_DIR = 'output_recommend'\n",
    "scrape_one_stream_whole(OUTPUT_DIR, 2)\n",
    "\n",
    "for filename in os.listdir(OUTPUT_DIR):\n",
    "    file_path = os.path.join(OUTPUT_DIR, filename)\n",
    "    img = cv2.imread(file_path)\n",
    "    plot_images(img)\n"
   ]
  },
  {
   "cell_type": "code",
   "execution_count": null,
   "id": "0aac5fb5",
   "metadata": {},
   "outputs": [],
   "source": []
  }
 ],
 "metadata": {
  "kernelspec": {
   "display_name": "Python 3 (ipykernel)",
   "language": "python",
   "name": "python3"
  },
  "language_info": {
   "codemirror_mode": {
    "name": "ipython",
    "version": 3
   },
   "file_extension": ".py",
   "mimetype": "text/x-python",
   "name": "python",
   "nbconvert_exporter": "python",
   "pygments_lexer": "ipython3",
   "version": "3.9.18"
  }
 },
 "nbformat": 4,
 "nbformat_minor": 5
}
