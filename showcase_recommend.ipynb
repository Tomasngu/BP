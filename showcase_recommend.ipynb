{
 "cells": [
  {
   "cell_type": "markdown",
   "id": "62129d75",
   "metadata": {},
   "source": [
    "# Doporučovací systém"
   ]
  },
  {
   "cell_type": "code",
   "execution_count": 3,
   "id": "06214b37-3b40-46de-b1ac-311432924d41",
   "metadata": {},
   "outputs": [],
   "source": [
    "import datetime\n",
    "import pandas as pd\n",
    "from sklearn.tree import DecisionTreeClassifier  \n",
    "from joblib import load"
   ]
  },
  {
   "cell_type": "code",
   "execution_count": null,
   "id": "34014fd4",
   "metadata": {},
   "outputs": [],
   "source": [
    "# Fetch the current time\n",
    "current_time = datetime.datetime.now()\n",
    "\n",
    "# Prepare the input features based on the current time\n",
    "decimal_time = current_time.hour + current_time.minute / 60.0\n",
    "day_of_week = current_time.weekday()  # Monday is 0 and Sunday is 6\n",
    "\n",
    "# Create a DataFrame for the input features (adjust column names as needed)\n",
    "input_features = pd.DataFrame([[decimal_time, day_of_week]],\n",
    "                              columns=['DecimalTime', 'DayOfWeek'])\n",
    "\n",
    "# Predict using the trained model (clf_best)\n",
    "predicted_camera = clf_best.predict(input_features)\n",
    "\n",
    "# If your model's target variable was encoded with LabelEncoder, decode the prediction\n",
    "predicted_camera_label = le.inverse_transform(predicted_camera)\n",
    "\n",
    "print(f\"Predicted camera for the current time ({current_time}): {predicted_camera_label[0]}\")"
   ]
  },
  {
   "cell_type": "markdown",
   "id": "959ed4e2",
   "metadata": {},
   "source": [
    "### Načtení modelu"
   ]
  },
  {
   "cell_type": "code",
   "execution_count": 4,
   "id": "0f2a7afa",
   "metadata": {},
   "outputs": [],
   "source": [
    "decision_tree_clf = load('model/decision_tree.joblib')"
   ]
  },
  {
   "cell_type": "markdown",
   "id": "6aae382c",
   "metadata": {},
   "source": [
    "### Zisk aktuálního času a dne ze systému"
   ]
  },
  {
   "cell_type": "code",
   "execution_count": 17,
   "id": "32af9b92",
   "metadata": {},
   "outputs": [
    {
     "name": "stdout",
     "output_type": "stream",
     "text": [
      "Aktuální čas je 2024-04-08 14:04:52.739255\n"
     ]
    }
   ],
   "source": [
    "current_time = datetime.datetime.now()\n",
    "print(f'Aktuální čas je {current_time}')\n",
    "\n",
    "decimal_time = current_time.hour + current_time.minute / 60.0\n",
    "day_of_week = current_time.weekday() \n",
    "input_features = pd.DataFrame([[decimal_time, day_of_week]],\n",
    "                              columns=['DecimalTime', 'DayOfWeek'])"
   ]
  },
  {
   "cell_type": "markdown",
   "id": "470bdaa1",
   "metadata": {},
   "source": [
    "### Doporučení kamery"
   ]
  },
  {
   "cell_type": "code",
   "execution_count": 15,
   "id": "3f50b8b3",
   "metadata": {},
   "outputs": [
    {
     "name": "stdout",
     "output_type": "stream",
     "text": [
      "Doporučená kamera je 6.\n"
     ]
    }
   ],
   "source": [
    "predicted_camera = decision_tree_clf.predict(input_features)\n",
    "print(f'Doporučená kamera je {predicted_camera[0]}.')"
   ]
  },
  {
   "cell_type": "code",
   "execution_count": null,
   "id": "b643fd0c",
   "metadata": {},
   "outputs": [],
   "source": []
  }
 ],
 "metadata": {
  "kernelspec": {
   "display_name": "Python 3 (ipykernel)",
   "language": "python",
   "name": "python3"
  },
  "language_info": {
   "codemirror_mode": {
    "name": "ipython",
    "version": 3
   },
   "file_extension": ".py",
   "mimetype": "text/x-python",
   "name": "python",
   "nbconvert_exporter": "python",
   "pygments_lexer": "ipython3",
   "version": "3.9.18"
  }
 },
 "nbformat": 4,
 "nbformat_minor": 5
}
