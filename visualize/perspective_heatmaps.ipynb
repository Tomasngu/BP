{
 "cells": [
  {
   "cell_type": "code",
   "execution_count": 11,
   "id": "033f08f3-44a9-473d-9f16-1dcf94fa5db0",
   "metadata": {},
   "outputs": [],
   "source": [
    "import pandas as pd\n",
    "import os\n",
    "import re\n",
    "from datetime import datetime, timedelta\n",
    "import cv2\n",
    "import numpy as np\n",
    "import matplotlib.pyplot as plt\n",
    "import matplotlib as mpl\n",
    "from image_points import *\n",
    "from read_positions import read_positions\n",
    "from perspective import *\n",
    "import random\n",
    "%matplotlib inline\n",
    "import random\n",
    "from helper import *\n",
    "from layout import create_layout\n",
    "\n"
   ]
  },
  {
   "cell_type": "code",
   "execution_count": 12,
   "id": "6b08be91-d075-4591-bd9d-2e1824d0c1a6",
   "metadata": {},
   "outputs": [
    {
     "data": {
      "text/plain": [
       "2867"
      ]
     },
     "execution_count": 12,
     "metadata": {},
     "output_type": "execute_result"
    }
   ],
   "source": [
    "df = read_positions(label_dir='../../data/labels', output_csv='positions.csv')\n",
    "# df = df[(df['Camera'] == 1) | (df['Camera'] == 2) | (df['Camera'] == 4)]\n",
    "df.head(11)\n",
    "len(df)"
   ]
  },
  {
   "cell_type": "code",
   "execution_count": 13,
   "id": "f984b892-dcaf-4ea4-a24f-be66e7400351",
   "metadata": {},
   "outputs": [
    {
     "name": "stderr",
     "output_type": "stream",
     "text": [
      "/tmp/ipykernel_3708493/780454095.py:24: FutureWarning: The behavior of DataFrame concatenation with empty or all-NA entries is deprecated. In a future version, this will no longer exclude empty or all-NA columns when determining the result dtypes. To retain the old behavior, exclude the relevant entries before the concat operation.\n",
      "  df_proj = pd.concat([df_proj, pd.DataFrame([data])], ignore_index=True)\n"
     ]
    },
    {
     "name": "stdout",
     "output_type": "stream",
     "text": [
      "LEN = 2867\n"
     ]
    },
    {
     "data": {
      "text/plain": [
       "Camera\n",
       "2    1122\n",
       "7     867\n",
       "1     393\n",
       "6     278\n",
       "4     207\n",
       "Name: count, dtype: int64"
      ]
     },
     "execution_count": 13,
     "metadata": {},
     "output_type": "execute_result"
    }
   ],
   "source": [
    "# H, mask = cv2.findHomography(IMAGE_PTS_1, MAP_PTS_1)\n",
    "\n",
    "df_proj = pd.DataFrame(columns=['Camera', 'Date', 'X_center', 'Y_center', 'Width', 'Height'])\n",
    "for index, row in df.iterrows():\n",
    "    data = {}\n",
    "    data['Camera'] = row['Camera']\n",
    "    map_width, map_height = CAMERA_to_MAP[data['Camera']]\n",
    "    H = CAMERA_to_H[data['Camera']]\n",
    "    width_real = CAMERA_to_REAL[data['Camera']]\n",
    "    # print(width_real)\n",
    "    data['Date'] = row['Date']\n",
    "    x, y, width, height = row['X_center'], row['Y_center'], row['Width'], row['Height']\n",
    "    \n",
    "    x, y = x*IMG_WIDTH, y*IMG_HEIGHT\n",
    "    width, height = width*IMG_WIDTH, height*IMG_HEIGHT\n",
    "    # print(f'x, y, w, h = {x, y, width, height}')\n",
    "    x, y, width, height = shift(x, y, width, height, data['Camera'])\n",
    "        \n",
    "    x_proj, y_proj = transform_row(H, x, y)\n",
    "    # print(polygon)  \n",
    "    data['X_center'], data['Y_center'] = x_proj/map_width, y_proj/map_height\n",
    "    data['Width'], data['Height'] = get_size(map_width, map_height, width_real)\n",
    "    \n",
    "    df_proj = pd.concat([df_proj, pd.DataFrame([data])], ignore_index=True)\n",
    "print(f'LEN = {len(df_proj)}')\n",
    "df_proj.head()\n",
    "df_proj['Camera'].value_counts()"
   ]
  },
  {
   "cell_type": "code",
   "execution_count": 14,
   "id": "ab9a1410-d07c-4be0-9d2f-20af3a52de4b",
   "metadata": {},
   "outputs": [
    {
     "data": {
      "text/plain": [
       "Camera\n",
       "2    944\n",
       "7    867\n",
       "1    393\n",
       "6    278\n",
       "4    207\n",
       "Name: count, dtype: int64"
      ]
     },
     "execution_count": 14,
     "metadata": {},
     "output_type": "execute_result"
    }
   ],
   "source": [
    "df_proj = remove_duplicate_elephants(df_proj)\n",
    "df_proj['Camera'].value_counts()"
   ]
  },
  {
   "cell_type": "code",
   "execution_count": 15,
   "id": "f3d95c91-31fc-450a-ac0c-11b1f4d92360",
   "metadata": {},
   "outputs": [
    {
     "name": "stdout",
     "output_type": "stream",
     "text": [
      "00-03 338\n",
      "03-06 104\n",
      "06-09 26\n",
      "09-12 9\n",
      "12-15 625\n",
      "15-18 531\n",
      "18-21 537\n",
      "21-24 519\n"
     ]
    }
   ],
   "source": [
    "df_proj['Hour'] = df_proj['Date'].dt.hour\n",
    "def map_to_time_window(hour):\n",
    "    return f'{int(np.floor(hour / 3) * 3):02d}-{int(np.floor(hour / 3) * 3 + 3):02d}'\n",
    "\n",
    "# Apply the function to create a time window column\n",
    "df_proj['Time_Window'] = df_proj['Hour'].apply(map_to_time_window)\n",
    "df_proj[['Hour', 'Time_Window']]\n",
    "time_windows = df_proj['Time_Window'].unique().tolist()\n",
    "time_windows.sort()\n",
    "for tw in time_windows:\n",
    "    print(tw, end = \" \")\n",
    "    print(len(df_proj[df_proj['Time_Window'] == tw]))"
   ]
  },
  {
   "cell_type": "code",
   "execution_count": 16,
   "id": "86a69e2f-b8d1-4dfb-af45-139146b72f9b",
   "metadata": {},
   "outputs": [],
   "source": [
    "def get_heatmap_new(df, camera, size):\n",
    "    df = df[df['Camera'].isin(camera)]\n",
    "    # print(df['Camera'])\n",
    "\n",
    "    # Specify the dimensions of the heatmap\n",
    "    heatmap_width, heatmap_height = size\n",
    "\n",
    "    # Initialize a blank image for the heatmap\n",
    "    heatmap_img = np.zeros((heatmap_height, heatmap_width), dtype=np.float32)\n",
    "\n",
    "    # Function to apply intensity within the bounding box area\n",
    "    def apply_bounded_gaussian_heatmap(cx, cy, w, h, heatmap):\n",
    "        # Calculate the bounding box in pixel coordinates\n",
    "        left = int(max(0, cx - w/2))\n",
    "        right = int(min(heatmap_width, cx + w/2))\n",
    "        top = int(max(0, cy - h/2))\n",
    "        bottom = int(min(heatmap_height, cy + h/2))\n",
    "\n",
    "        # sigma_x = 1000/real_size\n",
    "        # sigma_y = 1000/real_size\n",
    "        # Apply intensity only within the bounding box, using a Gaussian distribution\n",
    "        for y in range(top, bottom):\n",
    "            for x in range(left, right):\n",
    "                # dx = cx - x\n",
    "                # dy = cy - y\n",
    "                # value = np.exp(-(dx ** 2 / (2 * sigma_x ** 2) + dy ** 2 / (2 * sigma_y ** 2)))\n",
    "                value = 1\n",
    "                heatmap[y, x] += 1*value\n",
    "\n",
    "    # Populate the heatmap with bounded Gaussian distribution\n",
    "    for index, row in df.iterrows():\n",
    "        cx, cy, w, h = row['X_center'] * heatmap_width, row['Y_center'] * heatmap_height, row['Width'] * heatmap_width, row['Height'] * heatmap_height\n",
    "        apply_bounded_gaussian_heatmap(cx, cy, w, h, heatmap_img)\n",
    "\n",
    "    # max_value = np.max(heatmap_img)\n",
    "    # print(max_value)\n",
    "    # heatmap_img = (heatmap_img / max_value) * 255 \n",
    "    # # Normalize the heatmap\n",
    "    # # cv2.normalize(heatmap_img, heatmap_img, 0, 255, norm_type=cv2.NORM_MINMAX)\n",
    "    # zero_mask = (heatmap_img < 25.5) # 10 times less often\n",
    "    # # Apply a colormap to create a color heatmap\n",
    "    # heatmap_color = cv2.applyColorMap(np.uint8(heatmap_img), cv2.COLORMAP_JET)\n",
    "    # heatmap_color[zero_mask] = (0,0,0)\n",
    "    # plt.figure()\n",
    "    # plt.imshow(heatmap_color[..., ::-1])  # change channels order since the YOLO work on BGR images\n",
    "    # plt.show()\n",
    "    return heatmap_img\n"
   ]
  },
  {
   "cell_type": "code",
   "execution_count": 17,
   "id": "63817cfc-fcfd-499b-80e8-c24cee53cc0e",
   "metadata": {},
   "outputs": [
    {
     "ename": "TypeError",
     "evalue": "get_heatmap_new() takes 3 positional arguments but 4 were given",
     "output_type": "error",
     "traceback": [
      "\u001b[0;31m---------------------------------------------------------------------------\u001b[0m",
      "\u001b[0;31mTypeError\u001b[0m                                 Traceback (most recent call last)",
      "Cell \u001b[0;32mIn[17], line 3\u001b[0m\n\u001b[1;32m      1\u001b[0m \u001b[38;5;66;03m# Optionally, load an actual image to overlay the heatmap on\u001b[39;00m\n\u001b[1;32m      2\u001b[0m original_img \u001b[38;5;241m=\u001b[39m cv2\u001b[38;5;241m.\u001b[39mimread(\u001b[38;5;124m'\u001b[39m\u001b[38;5;124mmaps/map12.png\u001b[39m\u001b[38;5;124m'\u001b[39m)\n\u001b[0;32m----> 3\u001b[0m heatmap_color \u001b[38;5;241m=\u001b[39m \u001b[43mget_heatmap_new\u001b[49m\u001b[43m(\u001b[49m\u001b[43mdf_proj\u001b[49m\u001b[43m[\u001b[49m\u001b[43m:\u001b[49m\u001b[38;5;241;43m1\u001b[39;49m\u001b[43m]\u001b[49m\u001b[43m,\u001b[49m\u001b[43m \u001b[49m\u001b[43m[\u001b[49m\u001b[38;5;241;43m2\u001b[39;49m\u001b[43m]\u001b[49m\u001b[43m,\u001b[49m\u001b[43m \u001b[49m\u001b[43mCAMERA_to_MAP\u001b[49m\u001b[43m[\u001b[49m\u001b[38;5;241;43m2\u001b[39;49m\u001b[43m]\u001b[49m\u001b[43m,\u001b[49m\u001b[43m \u001b[49m\u001b[43mCAMERA_to_REAL\u001b[49m\u001b[43m[\u001b[49m\u001b[38;5;241;43m2\u001b[39;49m\u001b[43m]\u001b[49m\u001b[43m)\u001b[49m\n\u001b[1;32m      4\u001b[0m overlayed_img1 \u001b[38;5;241m=\u001b[39m cv2\u001b[38;5;241m.\u001b[39maddWeighted(original_img, \u001b[38;5;241m0.8\u001b[39m, heatmap_color, \u001b[38;5;241m1\u001b[39m, \u001b[38;5;241m0\u001b[39m)\n\u001b[1;32m      5\u001b[0m plt\u001b[38;5;241m.\u001b[39mfigure()\n",
      "\u001b[0;31mTypeError\u001b[0m: get_heatmap_new() takes 3 positional arguments but 4 were given"
     ]
    }
   ],
   "source": [
    "# Optionally, load an actual image to overlay the heatmap on\n",
    "original_img = cv2.imread('maps/map12.png')\n",
    "heatmap_color = get_heatmap_new(df_proj[:1], [2], CAMERA_to_MAP[2], CAMERA_to_REAL[2])\n",
    "overlayed_img1 = cv2.addWeighted(original_img, 0.8, heatmap_color, 1, 0)\n",
    "plt.figure()\n",
    "plt.imshow(overlayed_img1[..., ::-1])  # change channels order since the YOLO work on BGR images\n",
    "plt.show()\n"
   ]
  },
  {
   "cell_type": "code",
   "execution_count": null,
   "id": "8c0a4b24-2895-45d4-8c6c-272fde1c47a7",
   "metadata": {},
   "outputs": [],
   "source": [
    "# Optionally, load an actual image to overlay the heatmap on\n",
    "original_img = cv2.imread('maps/map12.png')\n",
    "heatmap_color = get_heatmap_new(df_proj[:200], [1,2], CAMERA_to_MAP[1])\n",
    "overlayed_img1 = cv2.addWeighted(original_img, 0.8, heatmap_color, 1, 0)\n",
    "plt.figure()\n",
    "plt.imshow(overlayed_img1[..., ::-1])  # change channels order since the YOLO work on BGR images\n",
    "plt.show()"
   ]
  },
  {
   "cell_type": "code",
   "execution_count": null,
   "id": "0a924698-ca55-4fed-aa2b-92becd54e2c6",
   "metadata": {},
   "outputs": [],
   "source": [
    "# Optionally, load an actual image to overlay the heatmap on\n",
    "original_img = cv2.imread('maps/map6_real.png')\n",
    "heatmap_color = get_heatmap_new(df_proj[:], [6], CAMERA_to_MAP[6], CAMERA_to_REAL[6])\n",
    "overlayed_img6 = cv2.addWeighted(original_img, 0.8, heatmap_color, 1, 0)\n",
    "\n",
    "fig, ax = plt.subplots()\n",
    "cax = ax.imshow(overlayed_img6[..., ::-1])  # change channels order since the YOLO work on BGR images\n",
    "fig.colorbar(cax)\n",
    "\n"
   ]
  },
  {
   "cell_type": "code",
   "execution_count": null,
   "id": "c3ad6450-1a83-4dd0-9a57-c5d588ffded8",
   "metadata": {},
   "outputs": [],
   "source": [
    "# camera_ids = [2, 4, 6, 7]  \n",
    "# all_heatmaps = {}\n",
    "# maxes = {}\n",
    "\n",
    "# for tw in time_windows:\n",
    "#     df = df_proj[df_proj['Time_Window'] == tw]\n",
    "#     raw_heatmaps = []\n",
    "#     for camera in camera_ids\n",
    "    \n",
    "#     raw_heatmaps = [get_heatmap_new(df, [camera], CAMERA_to_MAP[camera]) for camera in camera_ids]\n",
    "#     global_max = np.max([np.max(heatmap) for heatmap in raw_heatmaps])\n",
    "#     all_heatmaps[tw] = raw_heatmaps\n",
    "#     maxes[tw] = global_max\n"
   ]
  },
  {
   "cell_type": "code",
   "execution_count": null,
   "id": "dcea7701-fb54-4aa9-8efd-8ecd1a90f464",
   "metadata": {},
   "outputs": [],
   "source": [
    "def add_colorbar(image, min_val, max_val, title=None, show=False):\n",
    "    fig, (ax1, ax2) = plt.subplots(1, 2, figsize=(7, 10),\n",
    "                                   gridspec_kw={'width_ratios': [20, 1], 'wspace': 0.05})\n",
    "    if title is not None:\n",
    "        fig.suptitle(title, fontsize=16)\n",
    "        \n",
    "    # Display the image in the first subplot\n",
    "    ax1.imshow(image[..., ::-1]) \n",
    "    ax1.axis('off')  # Turn off axis for image\n",
    "    \n",
    "    # Create a colormap and normalization instance\n",
    "    cmap = mpl.cm.jet\n",
    "    norm = mpl.colors.Normalize(vmin=min_val, vmax=max_val)\n",
    "    \n",
    "    # Create the colorbar in the second subplot\n",
    "    cb1 = mpl.colorbar.ColorbarBase(ax2, cmap=cmap, norm=norm, orientation='vertical')\n",
    "    cb1.set_label('Average # Elephants per day')\n",
    "    # Set custom ticks if needed (here just showing min and max)\n",
    "    tick_values = np.linspace(min_val, max_val, num=11)\n",
    "    cb1.set_ticks(tick_values)\n",
    "    cb1.set_ticks(tick_values)\n",
    "    # cb1.set_ticklabels([f'{min_val}', f'{max_val}'])\n",
    "    cb1.set_ticklabels([f'{val.round(1)}' for val in tick_values])\n",
    "    if not show:\n",
    "        plt.close()\n",
    "    #fig.tight_layout()\n",
    "    fig.subplots_adjust(top=0.95)\n",
    "    return fig\n",
    "\n",
    "l = create_layout(cv2.imread('maps/map12.png'), cv2.imread('maps/map4_real.png'), cv2.imread('maps/map6_real.png'), cv2.imread('maps/map7.png'))\n",
    "fig = add_colorbar(l, 3.3/20, 3.3, 'Epic Title', show=True)\n",
    "# fig.savefig('x.png', bbox_inches='tight')\n",
    "\n",
    "# fig.show()\n"
   ]
  },
  {
   "cell_type": "code",
   "execution_count": null,
   "id": "ef6694af-186c-415c-b014-0d3dcb1593f6",
   "metadata": {},
   "outputs": [],
   "source": [
    "def create_full_heatmap(df, save_path, days_interval=10, min_scale=20, title=None):\n",
    "    camera_ids = [2, 4, 6, 7]\n",
    "    raw_heatmaps = []\n",
    "    heatmap_1 = get_heatmap_new(df, [1,2], CAMERA_to_MAP[1])\n",
    "    raw_heatmaps.append(heatmap_1)\n",
    "    for camera in camera_ids[1:]:\n",
    "        raw_heatmaps.append(get_heatmap_new(df, [camera], CAMERA_to_MAP[camera]))\n",
    "    global_max = np.max([np.max(heatmap) for heatmap in raw_heatmaps])\n",
    "\n",
    "    def normalize_and_apply_colormap(heatmap, global_max, min_scale=min_scale):\n",
    "        # Scale heatmap values based on global_max directly\n",
    "        heatmap_scaled = (heatmap / global_max) * 255 \n",
    "        heatmap_scaled = np.clip(heatmap_scaled, 0, 255).astype(np.uint8)  # Ensure values are within byte range\n",
    "        zero_mask = (heatmap_scaled < 255/min_scale)\n",
    "\n",
    "        heatmap_color = cv2.applyColorMap(heatmap_scaled, cv2.COLORMAP_JET)\n",
    "        heatmap_color[zero_mask] = (0,0,0)\n",
    "        return heatmap_color\n",
    "\n",
    "    normalized_heatmaps = [normalize_and_apply_colormap(heatmap, global_max) for heatmap in raw_heatmaps]\n",
    "\n",
    "    \n",
    "    original_img = cv2.imread(CAMERA_to_PATH[1])\n",
    "    # plot_images(original_img)\n",
    "    heatmap_color = normalized_heatmaps[0]\n",
    "    overlayed_img1 = cv2.addWeighted(original_img, 0.8, heatmap_color, 1, 0)\n",
    "    \n",
    "    original_img = cv2.imread(CAMERA_to_PATH[7])\n",
    "    heatmap_color = normalized_heatmaps[3]\n",
    "    overlayed_img7 = cv2.addWeighted(original_img, 0.8, heatmap_color, 1, 0)\n",
    "    \n",
    "    original_img = cv2.imread(CAMERA_to_PATH[6])\n",
    "    heatmap_color = normalized_heatmaps[2]\n",
    "    overlayed_img6 = cv2.addWeighted(original_img, 0.8, heatmap_color, 1, 0)\n",
    "    \n",
    "    original_img = cv2.imread(CAMERA_to_PATH[4])\n",
    "    heatmap_color = normalized_heatmaps[1]\n",
    "    overlayed_img4 = cv2.addWeighted(original_img, 0.8, heatmap_color, 1, 0)\n",
    "\n",
    "    final_layout = create_layout(overlayed_img1, overlayed_img4, overlayed_img6, overlayed_img7)\n",
    "\n",
    "    max_per_day = global_max/days_interval\n",
    "    \n",
    "    fig = add_colorbar(final_layout, max_per_day/min_scale, max_per_day, title)\n",
    "    fig.savefig(save_path, bbox_inches='tight')\n",
    "    \n",
    "create_full_heatmap(df=df_proj[:], save_path='he.png')"
   ]
  },
  {
   "cell_type": "code",
   "execution_count": null,
   "id": "dded7859-a2ce-41f1-96ea-26e2a390c707",
   "metadata": {},
   "outputs": [],
   "source": [
    "for tw in time_windows:\n",
    "    df = df_proj[df_proj['Time_Window'] == tw]\n",
    "    create_full_heatmap(df=df, save_path=f'he{tw}.png', title=tw)\n",
    "    "
   ]
  },
  {
   "cell_type": "code",
   "execution_count": null,
   "id": "54eb82c7-7b02-4213-bd75-40fbfe385b18",
   "metadata": {},
   "outputs": [],
   "source": [
    "image_paths = [f\"he{x}.png\" for x in time_windows]\n",
    "images = [cv2.imread(path) for path in image_paths]\n",
    "rows = [cv2.hconcat(images[i:i+4]) for i in range(0, 8, 4)]\n",
    "# Vertically concatenate the rows to form the final grid\n",
    "stacked_image = cv2.vconcat(rows)\n",
    "plot_images(stacked_image)\n",
    "cv2.imwrite('he_all.png', stacked_image)"
   ]
  },
  {
   "cell_type": "code",
   "execution_count": null,
   "id": "5769fa58-c9bb-45c1-8837-cbcb0250a182",
   "metadata": {},
   "outputs": [],
   "source": [
    "# Optionally, load an actual image to overlay the heatmap on\n",
    "x\n",
    "def one_heatmap(df, camera):\n",
    "    original_img = cv2.imread(CAMERA_to_PATH[camera])\n",
    "    heatmap_color = get_heatmap_new(df, [camera], CAMERA_to_MAP[camera])\n",
    "    overlayed_img = cv2.addWeighted(original_img, 0.8, heatmap_color, 1, 0)\n",
    "    plt.figure()\n",
    "    plt.imshow(overlayed_img4[..., ::-1])  # change channels order since the YOLO work on BGR images\n",
    "    plt.show()\n",
    "\n"
   ]
  },
  {
   "cell_type": "code",
   "execution_count": null,
   "id": "5f4bee2d-cc58-4665-896b-d4758629b16f",
   "metadata": {},
   "outputs": [],
   "source": []
  },
  {
   "cell_type": "code",
   "execution_count": null,
   "id": "bf51e374-95e6-4aae-abe0-31ba9ae3a044",
   "metadata": {},
   "outputs": [],
   "source": [
    "# Optionally, load an actual image to overlay the heatmap on\n",
    "original_img = cv2.imread('maps/map7.png')\n",
    "heatmap_color = get_heatmap_new(df_proj[:100], [7], CAMERA_to_MAP[7], CAMERA_to_REAL[7])\n",
    "overlayed_img7 = cv2.addWeighted(original_img, 0.8, heatmap_color, 1, 0)\n",
    "plt.figure()\n",
    "plt.imshow(overlayed_img7[..., ::-1])  # change channels order since the YOLO work on BGR images\n",
    "plt.show()\n"
   ]
  },
  {
   "cell_type": "code",
   "execution_count": null,
   "id": "e17a1af3-6e53-4f09-b462-be8d634bbaf2",
   "metadata": {},
   "outputs": [],
   "source": [
    "def plot_images(*imgs, titles=[], channels='bgr', normalize=False, ticks_off=True, title_size=32, width=30, height=30):\n",
    "    assert channels.lower() in ['bgr', 'rgb', 'mono'], 'Possible values for channels are: bgr, rgb or mono!'\n",
    "\n",
    "    #     f = plt.figure(figsize=(30, 20))\n",
    "    width_def = width\n",
    "    height_def = height\n",
    "\n",
    "    width = math.ceil(math.sqrt(len(imgs)))\n",
    "    height = math.ceil(len(imgs) / width)\n",
    "    height_def = height_def / 5 * width\n",
    "    if height_def > 65:\n",
    "        height_def = 65\n",
    "\n",
    "    f = plt.figure(figsize=(width_def, height_def))\n",
    "    for i, img in enumerate(imgs, 1):\n",
    "        ax = f.add_subplot(height, width, i)\n",
    "        if ticks_off:\n",
    "            ax.axis('off')\n",
    "\n",
    "        if len(titles) != 0:\n",
    "            if len(imgs) != len(titles):\n",
    "                print('WARNING titles length is not the same as images length!')\n",
    "\n",
    "            try:\n",
    "                ax.set_title(str(titles[i - 1]), fontdict={'fontsize': title_size, 'fontweight': 'medium'})\n",
    "            except:\n",
    "                pass\n",
    "\n",
    "        ax.imshow(cv2.cvtColor(img, cv2.COLOR_BGR2RGB))\n",
    "\n",
    "\n",
    "\n",
    "x = create_layout(overlayed_img1, overlayed_img4 , overlayed_img6, overlayed_img7)\n",
    "plot_images(x, titles=['Yay'], width=60, height=60)\n"
   ]
  },
  {
   "cell_type": "code",
   "execution_count": null,
   "id": "bed24452-b60f-4071-9658-b5d45e2719b4",
   "metadata": {},
   "outputs": [],
   "source": []
  }
 ],
 "metadata": {
  "kernelspec": {
   "display_name": "Python 3 (ipykernel)",
   "language": "python",
   "name": "python3"
  },
  "language_info": {
   "codemirror_mode": {
    "name": "ipython",
    "version": 3
   },
   "file_extension": ".py",
   "mimetype": "text/x-python",
   "name": "python",
   "nbconvert_exporter": "python",
   "pygments_lexer": "ipython3",
   "version": "3.11.7"
  }
 },
 "nbformat": 4,
 "nbformat_minor": 5
}
