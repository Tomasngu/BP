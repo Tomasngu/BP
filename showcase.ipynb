{
 "cells": [
  {
   "cell_type": "markdown",
   "id": "cf9220cf-7631-41d6-8988-86c87aa13a88",
   "metadata": {},
   "source": [
    "### Preprocess data to YOLO format\n",
    "\n",
    "#### 1. Convert JSON labels to YOLO format\n",
    "\n",
    "```\n",
    "data/\n",
    "├── images\n",
    "│   ├── screenshot_aa.png\n",
    "│   ├── ...\n",
    "│   └── screenshot_zz.png\n",
    "└── labels\n",
    "    ├── screenshot_aa.txt\n",
    "    ├── ...\n",
    "    └── screenshot_zz.txt\n",
    "```"
   ]
  },
  {
   "cell_type": "code",
   "execution_count": 3,
   "id": "4267abbb-888a-4897-a07b-500e1d2cb488",
   "metadata": {},
   "outputs": [
    {
     "name": "stdout",
     "output_type": "stream",
     "text": [
      "Help on function convert_json in module yolo_preprocess.convert_json:\n",
      "\n",
      "convert_json(images_dir, json_file, new_base_dir)\n",
      "\n"
     ]
    },
    {
     "name": "stderr",
     "output_type": "stream",
     "text": [
      "Annotations /home/improcloud/nguyehu7/BP/SLONICI-2.json: 100%|█| 3615/3615 [00:0\n"
     ]
    },
    {
     "name": "stdout",
     "output_type": "stream",
     "text": [
      "Converted 3615 labels from SLONICI-2.json\n",
      "All images moved to data/images\n",
      "All labels moved to data/labels\n"
     ]
    }
   ],
   "source": [
    "from yolo_preprocess.convert_json import convert_json\n",
    "\n",
    "help(convert_json)\n",
    "convert_json(images_dir='images', json_file='SLONICI-2.json', new_base_dir='data3')"
   ]
  },
  {
   "cell_type": "markdown",
   "id": "420b87cf-d7f8-48f9-8557-09153c616a58",
   "metadata": {},
   "source": [
    "#### 2. Split the data into train/val/test datasets.\n",
    "\n",
    "```\n",
    "target/\n",
    "├── images\n",
    "│   ├── train: xx files\n",
    "│   ├── val: yy files\n",
    "│   └── test: zz files\n",
    "└── labels\n",
    "    ├── train: aa files\n",
    "    ├── val: bb files\n",
    "    └── test: cc files\n",
    "```"
   ]
  },
  {
   "cell_type": "code",
   "execution_count": 4,
   "id": "593b1047-0ac1-4487-ad11-36e19502b420",
   "metadata": {},
   "outputs": [
    {
     "name": "stdout",
     "output_type": "stream",
     "text": [
      "1\n"
     ]
    },
    {
     "name": "stderr",
     "output_type": "stream",
     "text": [
      "100%|██████████████████████████████████████| 2581/2581 [00:08<00:00, 307.01it/s]\n",
      "100%|████████████████████████████████████████| 553/553 [00:02<00:00, 199.02it/s]\n",
      "100%|████████████████████████████████████████| 554/554 [00:03<00:00, 158.55it/s]\n"
     ]
    }
   ],
   "source": [
    "from yolo_preprocess.yolo_train_test_split import data_split\n",
    "data_split(path_dir='data3', target='target', create_new=False, keep_empty=True)\n"
   ]
  },
  {
   "cell_type": "code",
   "execution_count": 1,
   "id": "4ceb8126-bc68-4255-807a-984440de8231",
   "metadata": {},
   "outputs": [
    {
     "name": "stdout",
     "output_type": "stream",
     "text": [
      "target\n",
      "├── images\n",
      "│   ├── train: 3886 files\n",
      "│   ├── val: 992 files\n",
      "│   └── test: 986 files\n",
      "└── labels\n",
      "    ├── train: 3663 files\n",
      "    ├── val: 913 files\n",
      "    └── test: 931 files\n"
     ]
    }
   ],
   "source": [
    "from yolo_preprocess.show_tree import print_structure_tree\n",
    "print_structure_tree('target')\n"
   ]
  },
  {
   "cell_type": "code",
   "execution_count": 2,
   "id": "b0444be1-6c50-415d-9f4e-3d37d08b7222",
   "metadata": {},
   "outputs": [
    {
     "name": "stdout",
     "output_type": "stream",
     "text": [
      "new_target/\n",
      "├── images\n",
      "│   ├── train: 4081 files\n",
      "│   ├── val: 992 files\n",
      "│   └── test: 986 files\n",
      "└── labels\n",
      "    ├── train: 3663 files\n",
      "    ├── val: 913 files\n",
      "    └── test: 931 files\n"
     ]
    }
   ],
   "source": [
    "# from yolo_preprocess.show_tree import print_structure_tree\n",
    "# print_structure_tree('new_target/')\n"
   ]
  }
 ],
 "metadata": {
  "kernelspec": {
   "display_name": "Python 3 (ipykernel)",
   "language": "python",
   "name": "python3"
  },
  "language_info": {
   "codemirror_mode": {
    "name": "ipython",
    "version": 3
   },
   "file_extension": ".py",
   "mimetype": "text/x-python",
   "name": "python",
   "nbconvert_exporter": "python",
   "pygments_lexer": "ipython3",
   "version": "3.11.7"
  }
 },
 "nbformat": 4,
 "nbformat_minor": 5
}
