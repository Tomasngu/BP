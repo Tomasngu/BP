{
 "cells": [
  {
   "cell_type": "code",
   "execution_count": 1,
   "metadata": {},
   "outputs": [],
   "source": [
    "import cv2\n",
    "import os\n"
   ]
  },
  {
   "cell_type": "code",
   "execution_count": 4,
   "metadata": {},
   "outputs": [
    {
     "ename": "KeyboardInterrupt",
     "evalue": "",
     "output_type": "error",
     "traceback": [
      "\u001b[0;31m---------------------------------------------------------------------------\u001b[0m",
      "\u001b[0;31mKeyboardInterrupt\u001b[0m                         Traceback (most recent call last)",
      "\u001b[1;32m/Users/tomasnguyen/FIT/cap.ipynb Cell 2\u001b[0m line \u001b[0;36m2\n\u001b[1;32m     <a href='vscode-notebook-cell:/Users/tomasnguyen/FIT/cap.ipynb#W1sZmlsZQ%3D%3D?line=23'>24</a>\u001b[0m     \u001b[39m# Skip frames to the next interval\u001b[39;00m\n\u001b[1;32m     <a href='vscode-notebook-cell:/Users/tomasnguyen/FIT/cap.ipynb#W1sZmlsZQ%3D%3D?line=24'>25</a>\u001b[0m     \u001b[39mfor\u001b[39;00m _ \u001b[39min\u001b[39;00m \u001b[39mrange\u001b[39m(\u001b[39mint\u001b[39m(interval)):\n\u001b[0;32m---> <a href='vscode-notebook-cell:/Users/tomasnguyen/FIT/cap.ipynb#W1sZmlsZQ%3D%3D?line=25'>26</a>\u001b[0m         cap\u001b[39m.\u001b[39;49mgrab()\n\u001b[1;32m     <a href='vscode-notebook-cell:/Users/tomasnguyen/FIT/cap.ipynb#W1sZmlsZQ%3D%3D?line=26'>27</a>\u001b[0m cap\u001b[39m.\u001b[39mrelease()\n",
      "\u001b[0;31mKeyboardInterrupt\u001b[0m: "
     ]
    }
   ],
   "source": [
    "cap = cv2.VideoCapture('../../Downloads/zoo1.mp4')\n",
    "\n",
    "output_folder = \"captured_frames\"\n",
    "if not os.path.exists(output_folder):\n",
    "    os.makedirs(output_folder)\n",
    "\n",
    "fps = cap.get(cv2.CAP_PROP_FPS)  \n",
    "start_hour = 11.5\n",
    "start_frame = int(start_hour * 3600 * fps)\n",
    "cap.set(cv2.CAP_PROP_POS_FRAMES, start_frame)\n",
    "\n",
    "interval = 10 * 60 * fps \n",
    "frame_counter = 0  \n",
    "\n",
    "while True:\n",
    "    success, frame = cap.read()\n",
    "    if not success:\n",
    "        break\n",
    "    frame_filename = os.path.join(output_folder, f\"frame_{frame_counter}.jpg\")\n",
    "    cv2.imwrite(frame_filename, frame)\n",
    "    frame_counter += 1\n",
    "\n",
    "    # Skip frames to the next interval\n",
    "    for _ in range(int(interval)):\n",
    "        cap.grab()\n",
    "cap.release()"
   ]
  },
  {
   "cell_type": "code",
   "execution_count": 15,
   "metadata": {},
   "outputs": [
    {
     "data": {
      "text/plain": [
       "14.190755555555556"
      ]
     },
     "execution_count": 15,
     "metadata": {},
     "output_type": "execute_result"
    }
   ],
   "source": [
    "durationInSeconds/60/60"
   ]
  }
 ],
 "metadata": {
  "kernelspec": {
   "display_name": "SVZ",
   "language": "python",
   "name": "python3"
  },
  "language_info": {
   "codemirror_mode": {
    "name": "ipython",
    "version": 3
   },
   "file_extension": ".py",
   "mimetype": "text/x-python",
   "name": "python",
   "nbconvert_exporter": "python",
   "pygments_lexer": "ipython3",
   "version": "3.11.5"
  }
 },
 "nbformat": 4,
 "nbformat_minor": 2
}
